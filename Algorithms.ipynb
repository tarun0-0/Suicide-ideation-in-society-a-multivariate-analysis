{
 "cells": [
  {
   "cell_type": "markdown",
   "metadata": {},
   "source": [
    "## Classification by :\n",
    "* Bag of words\n",
    "* TFIDF\n",
    "* N-grams"
   ]
  },
  {
   "cell_type": "code",
   "execution_count": 32,
   "metadata": {
    "collapsed": true
   },
   "outputs": [],
   "source": [
    "# Loading necessary modules\n",
    "import pandas as pd              # data processing; csv file i/o (pd.read_csv)\n",
    "import numpy as np               # linear algebra\n",
    "import matplotlib.pyplot as plt  # visulaization\n",
    "%matplotlib inline"
   ]
  },
  {
   "cell_type": "code",
   "execution_count": 33,
   "metadata": {
    "collapsed": true
   },
   "outputs": [],
   "source": [
    "# Loading the dataset\n",
    "data = pd.read_csv(r'C:\\Users\\TARUN JAIN\\Desktop\\tweet.csv')"
   ]
  },
  {
   "cell_type": "code",
   "execution_count": 34,
   "metadata": {},
   "outputs": [
    {
     "data": {
      "text/html": [
       "<div>\n",
       "<style>\n",
       "    .dataframe thead tr:only-child th {\n",
       "        text-align: right;\n",
       "    }\n",
       "\n",
       "    .dataframe thead th {\n",
       "        text-align: left;\n",
       "    }\n",
       "\n",
       "    .dataframe tbody tr th {\n",
       "        vertical-align: top;\n",
       "    }\n",
       "</style>\n",
       "<table border=\"1\" class=\"dataframe\">\n",
       "  <thead>\n",
       "    <tr style=\"text-align: right;\">\n",
       "      <th></th>\n",
       "      <th>Id</th>\n",
       "      <th>Content</th>\n",
       "      <th>Sentiment</th>\n",
       "    </tr>\n",
       "  </thead>\n",
       "  <tbody>\n",
       "    <tr>\n",
       "      <th>0</th>\n",
       "      <td>49640624.0</td>\n",
       "      <td>the end</td>\n",
       "      <td>Negative</td>\n",
       "    </tr>\n",
       "    <tr>\n",
       "      <th>1</th>\n",
       "      <td>43505275.0</td>\n",
       "      <td>god over everything</td>\n",
       "      <td>Negative</td>\n",
       "    </tr>\n",
       "    <tr>\n",
       "      <th>2</th>\n",
       "      <td>43505275.0</td>\n",
       "      <td>i m sorry</td>\n",
       "      <td>Negative</td>\n",
       "    </tr>\n",
       "    <tr>\n",
       "      <th>3</th>\n",
       "      <td>43505275.0</td>\n",
       "      <td>god    please forgive me</td>\n",
       "      <td>Negative</td>\n",
       "    </tr>\n",
       "    <tr>\n",
       "      <th>4</th>\n",
       "      <td>43505275.0</td>\n",
       "      <td>this day couldn t get any worse</td>\n",
       "      <td>Negative</td>\n",
       "    </tr>\n",
       "  </tbody>\n",
       "</table>\n",
       "</div>"
      ],
      "text/plain": [
       "           Id                             Content Sentiment\n",
       "0  49640624.0                            the end   Negative\n",
       "1  43505275.0                god over everything   Negative\n",
       "2  43505275.0                          i m sorry   Negative\n",
       "3  43505275.0           god    please forgive me   Negative\n",
       "4  43505275.0  this day couldn t get any worse     Negative"
      ]
     },
     "execution_count": 34,
     "metadata": {},
     "output_type": "execute_result"
    }
   ],
   "source": [
    "data.head()"
   ]
  },
  {
   "cell_type": "code",
   "execution_count": 35,
   "metadata": {},
   "outputs": [
    {
     "name": "stdout",
     "output_type": "stream",
     "text": [
      "type of text_train:  <class 'pandas.core.series.Series'>\n"
     ]
    }
   ],
   "source": [
    "print(\"type of text_train: \", type(data['Content']))"
   ]
  },
  {
   "cell_type": "code",
   "execution_count": 36,
   "metadata": {},
   "outputs": [
    {
     "data": {
      "text/plain": [
       "11440"
      ]
     },
     "execution_count": 36,
     "metadata": {},
     "output_type": "execute_result"
    }
   ],
   "source": [
    "len(data)"
   ]
  },
  {
   "cell_type": "code",
   "execution_count": 37,
   "metadata": {
    "collapsed": true
   },
   "outputs": [],
   "source": [
    "texts = []\n",
    "labels = []\n",
    "for i, label in enumerate(data['Sentiment']):\n",
    "    texts.append(data['Content'][i])\n",
    "    if label == 'Negative':\n",
    "        labels.append(0)\n",
    "    else:\n",
    "        labels.append(1)"
   ]
  },
  {
   "cell_type": "code",
   "execution_count": 38,
   "metadata": {
    "collapsed": true
   },
   "outputs": [],
   "source": [
    "texts = np.asarray(texts)\n",
    "labels = np.asarray(labels)"
   ]
  },
  {
   "cell_type": "code",
   "execution_count": 39,
   "metadata": {},
   "outputs": [
    {
     "name": "stdout",
     "output_type": "stream",
     "text": [
      "number of texts : 11440\n",
      "number of labels:  11440\n"
     ]
    }
   ],
   "source": [
    "print(\"number of texts :\" , len(texts))\n",
    "print(\"number of labels: \", len(labels))"
   ]
  },
  {
   "cell_type": "code",
   "execution_count": 40,
   "metadata": {},
   "outputs": [
    {
     "name": "stdout",
     "output_type": "stream",
     "text": [
      "<class 'numpy.ndarray'>\n"
     ]
    }
   ],
   "source": [
    "print(type(texts))"
   ]
  },
  {
   "cell_type": "code",
   "execution_count": 41,
   "metadata": {},
   "outputs": [
    {
     "name": "stdout",
     "output_type": "stream",
     "text": [
      "the end \n"
     ]
    }
   ],
   "source": [
    "print(texts[0])"
   ]
  },
  {
   "cell_type": "code",
   "execution_count": 42,
   "metadata": {},
   "outputs": [
    {
     "name": "stdout",
     "output_type": "stream",
     "text": [
      "[0 1]\n",
      "[ 1195 10245]\n"
     ]
    }
   ],
   "source": [
    "print(np.unique(labels))\n",
    "print(np.bincount(labels))"
   ]
  },
  {
   "cell_type": "code",
   "execution_count": 43,
   "metadata": {},
   "outputs": [
    {
     "data": {
      "text/plain": [
       "8.573221757322175"
      ]
     },
     "execution_count": 43,
     "metadata": {},
     "output_type": "execute_result"
    }
   ],
   "source": [
    "10245/1195    #More negative"
   ]
  },
  {
   "cell_type": "code",
   "execution_count": 44,
   "metadata": {},
   "outputs": [
    {
     "name": "stdout",
     "output_type": "stream",
     "text": [
      "True\n",
      "The number of training 9152, validation 2288 \n"
     ]
    }
   ],
   "source": [
    "np.random.seed(42)\n",
    "# shuffle data\n",
    "indices = np.arange(data.shape[0])\n",
    "np.random.shuffle(indices)\n",
    "texts = texts[indices]\n",
    "labels = labels[indices]\n",
    "\n",
    "# we will use 80% of data as training, 20% as validation data\n",
    "training_samples = int(11440 * .8)\n",
    "validation_samples = int(11440 - training_samples)\n",
    "# sanity check\n",
    "print(len(texts) == (training_samples + validation_samples))\n",
    "print(\"The number of training {0}, validation {1} \".format(training_samples, validation_samples))\n",
    "\n",
    "texts_train = texts[:training_samples]\n",
    "y_train = labels[:training_samples]\n",
    "texts_test = texts[training_samples:]\n",
    "y_test = labels[training_samples:]"
   ]
  },
  {
   "cell_type": "code",
   "execution_count": 45,
   "metadata": {},
   "outputs": [
    {
     "name": "stdout",
     "output_type": "stream",
     "text": [
      "tokenization\n",
      "{'it': 4, 'is': 3, 'sunny': 8, 'today': 9, 'and': 0, 'like': 5, 'she': 7, 'does': 1, 'not': 6, 'hamburger': 2} \n",
      "\n",
      "Transformed sparse matrix is: \n",
      "[[1 0 0 1 2 1 0 0 1 1]\n",
      " [0 1 1 0 0 1 1 1 0 0]]\n"
     ]
    }
   ],
   "source": [
    "# Example\n",
    "toy_samples = [\"It is sunny today and I like it, \", \n",
    "               \"she does not like hamburger\"]\n",
    "from sklearn.feature_extraction.text import CountVectorizer\n",
    "vect = CountVectorizer()\n",
    "# tokenize the document (split texts into each unique words)\n",
    "vect.fit(toy_samples)\n",
    "print(\"tokenization\")\n",
    "print(vect.vocabulary_, \"\\n\")\n",
    "\n",
    "# transform document into a matrix(the number indicates the number of words showing up in the document)\n",
    "bag_of_words = vect.transform(toy_samples)\n",
    "print(\"Transformed sparse matrix is: \")\n",
    "print(bag_of_words.toarray())"
   ]
  },
  {
   "cell_type": "code",
   "execution_count": 46,
   "metadata": {},
   "outputs": [
    {
     "name": "stdout",
     "output_type": "stream",
     "text": [
      "<9152x14933 sparse matrix of type '<class 'numpy.int64'>'\n",
      "\twith 151217 stored elements in Compressed Sparse Row format>\n"
     ]
    }
   ],
   "source": [
    "from sklearn.feature_extraction.text import CountVectorizer\n",
    "vect = CountVectorizer().fit(texts_train)\n",
    "X_train = vect.transform(texts_train)\n",
    "print(repr(X_train))"
   ]
  },
  {
   "cell_type": "code",
   "execution_count": 47,
   "metadata": {},
   "outputs": [
    {
     "data": {
      "text/plain": [
       "(9152, 14933)"
      ]
     },
     "execution_count": 47,
     "metadata": {},
     "output_type": "execute_result"
    }
   ],
   "source": [
    "X_train.shape"
   ]
  },
  {
   "cell_type": "code",
   "execution_count": 48,
   "metadata": {
    "collapsed": true
   },
   "outputs": [],
   "source": [
    "X_test = vect.transform(texts_test)"
   ]
  },
  {
   "cell_type": "code",
   "execution_count": 49,
   "metadata": {},
   "outputs": [
    {
     "data": {
      "text/plain": [
       "array([ 940, 8212], dtype=int64)"
      ]
     },
     "execution_count": 49,
     "metadata": {},
     "output_type": "execute_result"
    }
   ],
   "source": [
    "np.bincount(y_train)"
   ]
  },
  {
   "cell_type": "code",
   "execution_count": 50,
   "metadata": {
    "collapsed": true
   },
   "outputs": [],
   "source": [
    "from sklearn.pipeline import make_pipeline\n",
    "from sklearn.model_selection import GridSearchCV\n",
    "from sklearn.metrics import confusion_matrix\n",
    "from sklearn.linear_model import LogisticRegression\n",
    "\n",
    "logreg = LogisticRegression()\n",
    "param_grid = {'C': [0.01, 0.1, 1, 10, 100]}\n",
    "\n",
    "grid = GridSearchCV(logreg, param_grid, cv=5)\n",
    "grid_score=-0.12\n",
    "logreg_train = grid.fit(X_train, y_train)"
   ]
  },
  {
   "cell_type": "code",
   "execution_count": 51,
   "metadata": {},
   "outputs": [
    {
     "name": "stdout",
     "output_type": "stream",
     "text": [
      "LogisticRegression(C=1, class_weight=None, dual=False, fit_intercept=True,\n",
      "          intercept_scaling=1, max_iter=100, multi_class='ovr', n_jobs=1,\n",
      "          penalty='l2', random_state=None, solver='liblinear', tol=0.0001,\n",
      "          verbose=0, warm_start=False)\n"
     ]
    }
   ],
   "source": [
    "print(grid.best_estimator_)"
   ]
  },
  {
   "cell_type": "code",
   "execution_count": 52,
   "metadata": {},
   "outputs": [
    {
     "name": "stdout",
     "output_type": "stream",
     "text": [
      "accuracy is: \n"
     ]
    }
   ],
   "source": [
    "# logreg = LogisticRegression(C=0.1).fit(X_train, y_train)\n",
    "pred_logreg = logreg_train.predict(X_test)\n",
    "print(\"accuracy is: \".format(grid.best_score_))"
   ]
  },
  {
   "cell_type": "code",
   "execution_count": 79,
   "metadata": {},
   "outputs": [
    {
     "name": "stdout",
     "output_type": "stream",
     "text": [
      "[[ 152  103]\n",
      " [  35 1998]]\n"
     ]
    }
   ],
   "source": [
    "confusion = confusion_matrix(y_test, pred_logreg)\n",
    "print(confusion)"
   ]
  },
  {
   "cell_type": "code",
   "execution_count": 80,
   "metadata": {},
   "outputs": [
    {
     "name": "stdout",
     "output_type": "stream",
     "text": [
      "14933\n",
      "\n",
      "\n",
      "['00', '000', '00s', '01', '028', '0628', '0800', '09', '10', '100', '1000', '1000000', '1000th', '100caloriesnacks2adaymax', '100episodesofyudkbh', '100th', '100x', '101', '103', '104']\n",
      "\n",
      "\n",
      "['ziglar', 'zillion', 'zimbabwe', 'zines', 'zionists', 'zippy', 'zippytop', 'zodiacpeople', 'zoe', 'zoloft', 'zombie', 'zone', 'zonniques', 'zoo', 'zoom', 'zootopia', 'zora', 'zorich', 'zuperman', 'zwei']\n",
      "\n",
      "\n",
      "['00', 'accepts', 'ancestors', 'avoiding', 'binging', 'bury', 'chesterton', 'condemnable', 'cupcakes', 'details', 'dsmme', 'estyn', 'fierce', 'futures', 'groups', 'ho', 'incomplete', 'jeongin', 'lab', 'losers', 'melancholy', 'museum', 'nhis', 'nvr', 'painting', 'platforms', 'providers', 'regan', 'rostam', 'servicemen', 'snap', 'stops', 'tan', 'ton', 'unfilial', 'washington', 'x80xxv', 'yabookpromo']\n"
     ]
    }
   ],
   "source": [
    "#Improve\n",
    "#check vocab\n",
    "features_names = vect.get_feature_names()\n",
    "print(len(features_names))\n",
    "print(\"\\n\")\n",
    "# print first 20 features\n",
    "print(features_names[:20])\n",
    "print(\"\\n\")\n",
    "# print last 20 features\n",
    "print(features_names[-20:])\n",
    "print(\"\\n\")\n",
    "# print every 50th word\n",
    "print(features_names[::400])"
   ]
  },
  {
   "cell_type": "markdown",
   "metadata": {},
   "source": [
    "## Bag of words\n",
    "#### Transform texts into bag of words matrix(number of columns == number of unique words, number of rows == total set "
   ]
  },
  {
   "cell_type": "code",
   "execution_count": 81,
   "metadata": {},
   "outputs": [
    {
     "name": "stdout",
     "output_type": "stream",
     "text": [
      "<9152x4718 sparse matrix of type '<class 'numpy.int64'>'\n",
      "\twith 138750 stored elements in Compressed Sparse Row format>\n"
     ]
    }
   ],
   "source": [
    "# We will use only the words that appear in at least 3 tweets -- In other words, we will use frequent words which are also likely to be in the test set\n",
    "# min_df controls this condition(min_df=3 means pick up words which appear\n",
    "# at least 3 documents)\n",
    "vect = CountVectorizer(min_df=3).fit(texts_train)\n",
    "X_train = vect.transform(texts_train)\n",
    "X_test = vect.transform(texts_test)\n",
    "print(repr(X_train))"
   ]
  },
  {
   "cell_type": "code",
   "execution_count": 82,
   "metadata": {},
   "outputs": [
    {
     "name": "stdout",
     "output_type": "stream",
     "text": [
      "4718\n",
      "\n",
      "\n",
      "['00', '000', '0628', '10', '100', '100episodesofyudkbh', '100th', '101', '10th', '11', '119', '11th', '12', '12th', '13', '14', '1485', '15', '150', '150k']\n",
      "\n",
      "\n",
      "['younger', 'youngest', 'youngpeople', 'your', 'youre', 'yours', 'yourself', 'yourselves', 'youth', 'youths', 'youtube', 'yr', 'yrs', 'yudkbh', 'yup', 'zayn', 'zazzle', 'zero', 'zig', 'zombie']\n",
      "\n",
      "\n",
      "['00', 'awareness', 'choosing', 'dies', 'figure', 'honor', 'lie', 'nervosa', 'porn', 'sars', 'sucks', 'vegan']\n"
     ]
    }
   ],
   "source": [
    "features_names = vect.get_feature_names()\n",
    "print(len(features_names))\n",
    "print(\"\\n\")\n",
    "# print first 20 features\n",
    "print(features_names[:20])\n",
    "print(\"\\n\")\n",
    "# print last 20 features\n",
    "print(features_names[-20:])\n",
    "print(\"\\n\")\n",
    "# print every 50th word\n",
    "print(features_names[::400])"
   ]
  },
  {
   "cell_type": "code",
   "execution_count": 83,
   "metadata": {
    "collapsed": true
   },
   "outputs": [],
   "source": [
    "logreg = LogisticRegression()\n",
    "param_grid = {'C': [0.01, 0.1, 1, 10, 100]}\n",
    "grid_score=-0.09\n",
    "grid = GridSearchCV(logreg, param_grid, cv=5)\n",
    "logreg_train = grid.fit(X_train, y_train)"
   ]
  },
  {
   "cell_type": "code",
   "execution_count": 84,
   "metadata": {},
   "outputs": [
    {
     "name": "stdout",
     "output_type": "stream",
     "text": [
      "accuracy is:  0.846625874126\n"
     ]
    }
   ],
   "source": [
    "# logreg = LogisticRegression(C=0.1).fit(X_train, y_train)\n",
    "pred_logreg = logreg_train.predict(X_test)\n",
    "print(\"accuracy is: \", grid.score(X_test, y_test))"
   ]
  },
  {
   "cell_type": "code",
   "execution_count": 85,
   "metadata": {},
   "outputs": [
    {
     "name": "stdout",
     "output_type": "stream",
     "text": [
      "[[ 146  109]\n",
      " [  36 1997]]\n"
     ]
    }
   ],
   "source": [
    "confusion = confusion_matrix(y_test, pred_logreg)\n",
    "print(confusion)"
   ]
  },
  {
   "cell_type": "code",
   "execution_count": 86,
   "metadata": {},
   "outputs": [
    {
     "name": "stdout",
     "output_type": "stream",
     "text": [
      "Number of stop words is : 318 \n",
      "\n",
      "Examples:  ['detail', 'another', 'other', 'several', 'seemed', 'sincere', 'side', 'whom', 'anyway', 'otherwise', 'further', 'along', 'than', 'hers', 'put', 'our', 'wherein', 'too', 'due', 'below', 'one', 'hence', 'whose', 'only', 'seems', 'all', 'thick', 'everywhere', 'some', 'next', 'un', 'onto']\n"
     ]
    }
   ],
   "source": [
    "# remove stopwords\n",
    "from sklearn.feature_extraction.text import ENGLISH_STOP_WORDS\n",
    "print(\"Number of stop words is :\", len(ENGLISH_STOP_WORDS), \"\\n\")\n",
    "print(\"Examples: \", list(ENGLISH_STOP_WORDS)[::10])"
   ]
  },
  {
   "cell_type": "code",
   "execution_count": 87,
   "metadata": {},
   "outputs": [
    {
     "name": "stdout",
     "output_type": "stream",
     "text": [
      "<9152x4464 sparse matrix of type '<class 'numpy.int64'>'\n",
      "\twith 78782 stored elements in Compressed Sparse Row format>\n"
     ]
    }
   ],
   "source": [
    "vect = CountVectorizer(min_df=3, stop_words='english').fit(texts_train)\n",
    "X_train = vect.transform(texts_train)\n",
    "grid_score=-0.07\n",
    "X_test = vect.transform(texts_test)\n",
    "print(repr(X_train))"
   ]
  },
  {
   "cell_type": "code",
   "execution_count": 88,
   "metadata": {
    "collapsed": true
   },
   "outputs": [],
   "source": [
    "logreg = LogisticRegression()\n",
    "param_grid = {'C': [0.01, 0.1, 1, 10, 100]}\n",
    "\n",
    "grid = GridSearchCV(logreg, param_grid, cv=5)\n",
    "logreg_train = grid.fit(X_train, y_train)"
   ]
  },
  {
   "cell_type": "code",
   "execution_count": 89,
   "metadata": {},
   "outputs": [
    {
     "name": "stdout",
     "output_type": "stream",
     "text": [
      "accuracy is:  0.861818181818\n",
      "confusion matrix \n",
      " [[ 136  119]\n",
      " [  37 1996]]\n"
     ]
    }
   ],
   "source": [
    "# logreg = LogisticRegression(C=0.1).fit(X_train, y_train)\n",
    "pred_logreg = logreg_train.predict(X_test)\n",
    "print(\"accuracy is: \", grid.score(X_test, y_test))\n",
    "confusion = confusion_matrix(y_test, pred_logreg)\n",
    "print(\"confusion matrix \\n\", confusion)"
   ]
  },
  {
   "cell_type": "markdown",
   "metadata": {},
   "source": [
    "## TFIDF\n",
    "#### Difference from bag of words -- tfidf gives hight weights to the words which appear less in many document. In other words, it recoginizes the words showing specific document as important words (since these are the s features of the specific documents )"
   ]
  },
  {
   "cell_type": "code",
   "execution_count": 90,
   "metadata": {
    "collapsed": true
   },
   "outputs": [],
   "source": [
    "from sklearn.feature_extraction.text import TfidfVectorizer\n",
    "from sklearn.pipeline import make_pipeline"
   ]
  },
  {
   "cell_type": "code",
   "execution_count": 91,
   "metadata": {
    "collapsed": true
   },
   "outputs": [],
   "source": [
    "logreg = LogisticRegression()\n",
    "pipe = make_pipeline(TfidfVectorizer(min_df=3, norm=None, stop_words='english'), logreg)\n",
    "param_grid = {'logisticregression__C': [0.001, 0.01, 0.1, 1, 10]}\n",
    "\n",
    "grid = GridSearchCV(pipe, param_grid, cv=5)\n",
    "grid_score=-0.05\n",
    "logreg_train = grid.fit(texts_train, y_train)"
   ]
  },
  {
   "cell_type": "code",
   "execution_count": 92,
   "metadata": {},
   "outputs": [
    {
     "data": {
      "text/plain": [
       "dict_keys(['C', 'class_weight', 'dual', 'fit_intercept', 'intercept_scaling', 'max_iter', 'multi_class', 'n_jobs', 'penalty', 'random_state', 'solver', 'tol', 'verbose', 'warm_start'])"
      ]
     },
     "execution_count": 92,
     "metadata": {},
     "output_type": "execute_result"
    }
   ],
   "source": [
    "logreg.get_params().keys()"
   ]
  },
  {
   "cell_type": "code",
   "execution_count": 93,
   "metadata": {},
   "outputs": [
    {
     "name": "stdout",
     "output_type": "stream",
     "text": [
      "Pipeline(memory=None,\n",
      "     steps=[('tfidfvectorizer', TfidfVectorizer(analyzer='word', binary=False, decode_error='strict',\n",
      "        dtype=<class 'numpy.int64'>, encoding='utf-8', input='content',\n",
      "        lowercase=True, max_df=1.0, max_features=None, min_df=3,\n",
      "        ngram_range=(1, 1), norm=None, preprocessor=None, smooth_i...ty='l2', random_state=None, solver='liblinear', tol=0.0001,\n",
      "          verbose=0, warm_start=False))])\n"
     ]
    }
   ],
   "source": [
    "print(grid.best_estimator_)"
   ]
  },
  {
   "cell_type": "code",
   "execution_count": 94,
   "metadata": {},
   "outputs": [
    {
     "name": "stdout",
     "output_type": "stream",
     "text": [
      "accuracy is:  0.880506993007\n",
      "confusion matrix \n",
      " [[ 125  130]\n",
      " [  29 2004]]\n"
     ]
    }
   ],
   "source": [
    "# logreg = LogisticRegression(C=0.1).fit(X_train, y_train)\n",
    "pred_logreg = logreg_train.predict(texts_test)\n",
    "print(\"accuracy is: \", grid.score(texts_test, y_test))\n",
    "confusion = confusion_matrix(y_test, pred_logreg)\n",
    "print(\"confusion matrix \\n\", confusion)"
   ]
  },
  {
   "cell_type": "code",
   "execution_count": 95,
   "metadata": {},
   "outputs": [
    {
     "name": "stdout",
     "output_type": "stream",
     "text": [
      "features with lowest tfidf\n",
      "['congratulations' 'today' 'frustration' 'helpless' 'rt' 'regret'\n",
      " 'celebrations' 'satisfy' 'having' 'x99ve' 'doing' 'n1' 'n2' 'thing'\n",
      " 'doesn' 'feeling' 'url' 'nurl' 'actually' 'tonight'] \n",
      "\n",
      "featues with hightest tfidf\n",
      "['nwhat' 'lt' 'nof' 'shy' 'platinum' 'x9d' 'nbe' 'mccain' 'dragon' 'ye'\n",
      " 'nsomeone' 'boo' 'gotta' 'nyou' 'piece' 'hurts' 'nat_user' '00' 'trump'\n",
      " 'issue']\n"
     ]
    }
   ],
   "source": [
    "# Check which words are considered to be low tfidf(widely used words across many tweets) and high tfidf (used only in a few tweets)\n",
    "vectorizer = grid.best_estimator_.named_steps[\"tfidfvectorizer\"]\n",
    "X_train = vectorizer.transform(texts_train)\n",
    "max_value = X_train.max(axis=0).toarray().ravel()\n",
    "sorted_by_tfidf = max_value.argsort()\n",
    "\n",
    "feature_names = np.array(vectorizer.get_feature_names())\n",
    "\n",
    "print(\"features with lowest tfidf\")\n",
    "print(feature_names[sorted_by_tfidf[:20]], '\\n')\n",
    "\n",
    "print(\"featues with hightest tfidf\")\n",
    "print(feature_names[sorted_by_tfidf[-20:]])"
   ]
  },
  {
   "cell_type": "code",
   "execution_count": 96,
   "metadata": {},
   "outputs": [
    {
     "name": "stdout",
     "output_type": "stream",
     "text": [
      "Requirement already satisfied: mglearn in c:\\programdata\\anaconda3\\lib\\site-packages\n",
      "Requirement already satisfied: matplotlib in c:\\programdata\\anaconda3\\lib\\site-packages (from mglearn)\n",
      "Requirement already satisfied: numpy in c:\\programdata\\anaconda3\\lib\\site-packages (from mglearn)\n",
      "Requirement already satisfied: scikit-learn in c:\\programdata\\anaconda3\\lib\\site-packages (from mglearn)\n",
      "Requirement already satisfied: pandas in c:\\programdata\\anaconda3\\lib\\site-packages (from mglearn)\n",
      "Requirement already satisfied: cycler in c:\\programdata\\anaconda3\\lib\\site-packages (from mglearn)\n",
      "Requirement already satisfied: pillow in c:\\programdata\\anaconda3\\lib\\site-packages (from mglearn)\n",
      "Requirement already satisfied: six>=1.10 in c:\\programdata\\anaconda3\\lib\\site-packages (from matplotlib->mglearn)\n",
      "Requirement already satisfied: python-dateutil>=2.0 in c:\\programdata\\anaconda3\\lib\\site-packages (from matplotlib->mglearn)\n",
      "Requirement already satisfied: pytz in c:\\programdata\\anaconda3\\lib\\site-packages (from matplotlib->mglearn)\n",
      "Requirement already satisfied: pyparsing!=2.0.4,!=2.1.2,!=2.1.6,>=2.0.1 in c:\\programdata\\anaconda3\\lib\\site-packages (from matplotlib->mglearn)\n",
      "Requirement already satisfied: olefile in c:\\programdata\\anaconda3\\lib\\site-packages (from pillow->mglearn)\n"
     ]
    },
    {
     "name": "stderr",
     "output_type": "stream",
     "text": [
      "You are using pip version 9.0.1, however version 10.0.1 is available.\n",
      "You should consider upgrading via the 'python -m pip install --upgrade pip' command.\n"
     ]
    }
   ],
   "source": [
    "!pip install mglearn"
   ]
  },
  {
   "cell_type": "code",
   "execution_count": 97,
   "metadata": {},
   "outputs": [
    {
     "data": {
      "text/plain": [
       "Text(0.5,1,'tfidf-cofficient')"
      ]
     },
     "execution_count": 97,
     "metadata": {},
     "output_type": "execute_result"
    },
    {
     "data": {
      "image/png": "[encoded data removed]",
      "text/plain": [
       "<matplotlib.figure.Figure at 0x263264cf3c8>"
      ]
     },
     "metadata": {},
     "output_type": "display_data"
    }
   ],
   "source": [
    "import mglearn \n",
    "grid_score=-0.024\n",
    "mglearn.tools.visualize_coefficients(grid.best_estimator_.named_steps['logisticregression'].coef_, \n",
    "                                   feature_names, n_top_features=40)\n",
    "plt.title(\"tfidf-cofficient\")"
   ]
  },
  {
   "cell_type": "markdown",
   "metadata": {},
   "source": [
    "## Ngrams\n",
    "#### often single word is misleading predictor. For example, \"like\" and \"don't like\" are opposite"
   ]
  },
  {
   "cell_type": "code",
   "execution_count": 98,
   "metadata": {},
   "outputs": [
    {
     "name": "stdout",
     "output_type": "stream",
     "text": [
      "accuracy is:  0.910877622378\n",
      "confusion matrix \n",
      " [[ 143  112]\n",
      " [  37 1996]]\n"
     ]
    }
   ],
   "source": [
    "pipe = make_pipeline(TfidfVectorizer(min_df=3, stop_words='english'), logreg)\n",
    "param_grid = {'logisticregression__C': [0.001, 0.01, 0.1, 1, 10, 100], \n",
    "              'tfidfvectorizer__ngram_range': [(1,1), (1,2), (1,3)]}\n",
    "\n",
    "grid = GridSearchCV(pipe, param_grid, cv=5)\n",
    "logreg_train = grid.fit(texts_train, y_train)\n",
    "\n",
    "# logreg = LogisticRegression(C=0.1).fit(X_train, y_train)\n",
    "pred_logreg = logreg_train.predict(texts_test)\n",
    "print(\"accuracy is: \", grid.score(texts_test, y_test))\n",
    "confusion = confusion_matrix(y_test, pred_logreg)\n",
    "print(\"confusion matrix \\n\", confusion)"
   ]
  },
  {
   "cell_type": "code",
   "execution_count": 99,
   "metadata": {},
   "outputs": [
    {
     "name": "stdout",
     "output_type": "stream",
     "text": [
      "Pipeline(memory=None,\n",
      "     steps=[('tfidfvectorizer', TfidfVectorizer(analyzer='word', binary=False, decode_error='strict',\n",
      "        dtype=<class 'numpy.int64'>, encoding='utf-8', input='content',\n",
      "        lowercase=True, max_df=1.0, max_features=None, min_df=3,\n",
      "        ngram_range=(1, 3), norm='l2', preprocessor=None, smooth_i...ty='l2', random_state=None, solver='liblinear', tol=0.0001,\n",
      "          verbose=0, warm_start=False))])\n"
     ]
    }
   ],
   "source": [
    "print(grid.best_estimator_)"
   ]
  },
  {
   "cell_type": "code",
   "execution_count": 100,
   "metadata": {},
   "outputs": [
    {
     "name": "stderr",
     "output_type": "stream",
     "text": [
      "C:\\ProgramData\\Anaconda3\\lib\\site-packages\\sklearn\\model_selection\\_search.py:761: DeprecationWarning: The grid_scores_ attribute was deprecated in version 0.18 in favor of the more elaborate cv_results_ attribute. The grid_scores_ attribute will not be available from 0.20\n",
      "  DeprecationWarning)\n"
     ]
    },
    {
     "data": {
      "image/png": "[encoded data removed]",
      "text/plain": [
       "<matplotlib.figure.Figure at 0x2632ce56320>"
      ]
     },
     "metadata": {},
     "output_type": "display_data"
    }
   ],
   "source": [
    "scores = [s.mean_validation_score for s in grid.grid_scores_]\n",
    "scores = np.array(scores).reshape(-1, 3).T\n",
    "\n",
    "heatmap = mglearn.tools.heatmap(scores, xlabel=\"C\", ylabel=\"ngram_range\", \n",
    "                                xticklabels=param_grid['logisticregression__C'], \n",
    "                                yticklabels=param_grid['tfidfvectorizer__ngram_range'], \n",
    "                                cmap='viridis', fmt=\"%.3f\")\n",
    "plt.colorbar(heatmap);"
   ]
  },
  {
   "cell_type": "code",
   "execution_count": 101,
   "metadata": {},
   "outputs": [
    {
     "data": {
      "text/plain": [
       "Text(0.5,1,'tfidf-cofficient')"
      ]
     },
     "execution_count": 101,
     "metadata": {},
     "output_type": "execute_result"
    },
    {
     "data": {
      "image/png": "[encoded data removed]",
      "text/plain": [
       "<matplotlib.figure.Figure at 0x2632d0aaba8>"
      ]
     },
     "metadata": {},
     "output_type": "display_data"
    }
   ],
   "source": [
    "feature_names = np.array(grid.best_estimator_.named_steps['tfidfvectorizer'].get_feature_names())\n",
    "coef = grid.best_estimator_.named_steps['logisticregression'].coef_\n",
    "mglearn.tools.visualize_coefficients(coef,feature_names, n_top_features=40)\n",
    "plt.title(\"tfidf-cofficient\")"
   ]
  }
 ],
 "metadata": {
  "kernelspec": {
   "display_name": "Python 3",
   "language": "python",
   "name": "python3"
  },
  "language_info": {
   "codemirror_mode": {
    "name": "ipython",
    "version": 3
   },
   "file_extension": ".py",
   "mimetype": "text/x-python",
   "name": "python",
   "nbconvert_exporter": "python",
   "pygments_lexer": "ipython3",
   "version": "3.6.3"
  }
 },
 "nbformat": 4,
 "nbformat_minor": 2
}
